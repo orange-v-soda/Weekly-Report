{
 "cells": [
  {
   "cell_type": "markdown",
   "metadata": {},
   "source": [
    "# MNIST手写数字识别"
   ]
  },
  {
   "cell_type": "markdown",
   "metadata": {},
   "source": [
    "## 一：导入库"
   ]
  },
  {
   "cell_type": "code",
   "execution_count": 1,
   "metadata": {},
   "outputs": [],
   "source": [
    "import torch\n",
    "import numpy as np\n",
    "from matplotlib import pyplot as plt\n",
    "from torch.utils.data import DataLoader \n",
    "from torchvision import transforms\n",
    "from torchvision import datasets\n",
    "import torch.nn.functional as F \n",
    "\n",
    "batch_size=64\n",
    "learning_rate = 0.01\n",
    "momentum = 0.5 \n",
    "EPOCH = 10"
   ]
  },
  {
   "cell_type": "markdown",
   "metadata": {},
   "source": [
    "## 二：处理数据集"
   ]
  },
  {
   "cell_type": "code",
   "execution_count": 2,
   "metadata": {},
   "outputs": [],
   "source": [
    "#用两个参数固定归一化指数函数\n",
    "transform = transforms.Compose([transforms.ToTensor(),transforms.Normalize((0.1307,),(0.3081,))])\n",
    "#下载数据集，MNIST这种著名的数据集居然在包里就预置了下载的地址\n",
    "train_dataset = datasets.MNIST(root=\"./data/mnist\",train=True,download=True,transform=transform)\n",
    "test_dataset = datasets.MNIST(root=\"./data/mnist\",train=False,download=True,transform=transform)\n",
    "#将下载好的数据集打包并载入，其中的batch_size为超参数\n",
    "train_loader = DataLoader(train_dataset,batch_size=batch_size , shuffle=True)\n",
    "test_loader = DataLoader(test_dataset,batch_size=batch_size,shuffle=False)"
   ]
  },
  {
   "cell_type": "code",
   "execution_count": 3,
   "metadata": {},
   "outputs": [
    {
     "data": {
      "image/png": "[encoded data removed]",
      "text/plain": [
       "<Figure size 640x480 with 12 Axes>"
      ]
     },
     "metadata": {},
     "output_type": "display_data"
    }
   ],
   "source": [
    "#本代码块用于展示数据集中的图片\n",
    "fig=plt.figure()\n",
    "for i in range(12):\n",
    "    plt.subplot(3,4,i+1)\n",
    "    plt.tight_layout()\n",
    "    plt.imshow(train_dataset.data[i],cmap='gray',interpolation='none')\n",
    "    plt.title(\"Labels:{}\".format(train_dataset.targets[i]))\n",
    "    plt.xticks([])\n",
    "    plt.yticks([])\n",
    "plt.show()\n"
   ]
  },
  {
   "cell_type": "markdown",
   "metadata": {},
   "source": [
    "## 三：CNN"
   ]
  },
  {
   "cell_type": "code",
   "execution_count": 6,
   "metadata": {},
   "outputs": [],
   "source": [
    "class Net(torch.nn.Module):\n",
    "    def __init__(self):\n",
    "        super(Net,self).__init__()\n",
    "        self.conv1=torch.nn.Sequential(\n",
    "            torch.nn.Conv2d(1,10,kernel_size=5),\n",
    "            torch.nn.ReLU(),\n",
    "            torch.nn.MaxPool2d(kernel_size=2),\n",
    "        )\n",
    "        #第一层卷积，28*28-->24*24-->12*12，且扩展为了10块\n",
    "        self.conv2=torch.nn.Sequential(\n",
    "            torch.nn.Conv2d(10,20,kernel_size=5),\n",
    "            torch.nn.ReLU(),\n",
    "            torch.nn.MaxPool2d(kernel_size=2),\n",
    "        )\n",
    "        #第二层卷积，12*12-->8*8-->4*4，且扩展为了20块\n",
    "        self.fc=torch.nn.Sequential(\n",
    "            torch.nn.Linear(320,50),\n",
    "            torch.nn.Linear(50,10),\n",
    "        )\n",
    "        #全连接层通过两个线性层进行最终的预估，320个参数得到十个输出\n",
    "\n",
    "    def forward(self,x):\n",
    "        batch_size = x.size(0)\n",
    "        x = self.conv1(x)\n",
    "        x = self.conv2(x)\n",
    "        x = x.view(batch_size, -1)\n",
    "        #对于之前卷积得到的数据进行展开，得到一维的320个数据\n",
    "        x = self.fc(x)\n",
    "        return x\n",
    "    \n",
    "model = Net()"
   ]
  },
  {
   "cell_type": "markdown",
   "metadata": {},
   "source": [
    "## 四：定义训练和测试"
   ]
  },
  {
   "cell_type": "code",
   "execution_count": 7,
   "metadata": {},
   "outputs": [],
   "source": [
    "criterion = torch.nn.CrossEntropyLoss() #损失采用交叉熵损失\n",
    "optimizer = torch.optim.SGD(model.parameters(),lr=learning_rate,momentum=momentum)#采用随机梯度下降，需要两个参数，学习率和冲量"
   ]
  },
  {
   "cell_type": "code",
   "execution_count": 10,
   "metadata": {},
   "outputs": [],
   "source": [
    "def train(epoch):\n",
    "    running_loss = 0.0\n",
    "    running_total = 0\n",
    "    running_correct = 0\n",
    "    for batch_idx, data in enumerate(train_loader,0):\n",
    "        inputs,target = data\n",
    "        optimizer.zero_grad()\n",
    "\n",
    "        outputs = model(inputs)\n",
    "        loss = criterion(outputs, target)\n",
    "\n",
    "        loss.backward()\n",
    "        optimizer.step()\n",
    "\n",
    "        running_loss +=loss.item()\n",
    "        _, predicted = torch.max(outputs.data,dim=1)\n",
    "        running_total += inputs.shape[0]\n",
    "        running_correct += (predicted == target).sum().item()\n",
    "\n",
    "        if batch_idx%300==299:\n",
    "            print('[%d,%5d]: loss: %.3f, acc: %.2f %%' %(epoch+1,batch_idx+1,running_loss/300,100*running_correct / running_total))\n",
    "            running_loss = 0.0\n",
    "            running_total = 0\n",
    "            running_correct = 0\n",
    "\n",
    "def test():\n",
    "    correct = 0\n",
    "    total = 0 \n",
    "    with torch.no_grad():\n",
    "        for data in test_loader:\n",
    "            images,labels = data\n",
    "            outputs = model(images)\n",
    "            _, predicted = torch.max(outputs.data, dim=1)\n",
    "            total += labels.size(0)\n",
    "            correct+=(predicted==labels).sum().item()\n",
    "    acc=correct/total\n",
    "    print('[%d/%d]: Accuracy on test set: %.1f %% ' %(epoch+1,EPOCH,100*acc))\n",
    "    return acc"
   ]
  },
  {
   "cell_type": "markdown",
   "metadata": {},
   "source": [
    "## 五：开始训练"
   ]
  },
  {
   "cell_type": "code",
   "execution_count": 11,
   "metadata": {},
   "outputs": [
    {
     "name": "stdout",
     "output_type": "stream",
     "text": [
      "[1,  300]: loss: 0.716, acc: 79.32 %\n",
      "[1,  600]: loss: 0.215, acc: 93.61 %\n",
      "[1,  900]: loss: 0.163, acc: 95.20 %\n",
      "[1/10]: Accuracy on test set: 96.6 % \n",
      "[2,  300]: loss: 0.121, acc: 96.38 %\n",
      "[2,  600]: loss: 0.106, acc: 96.81 %\n",
      "[2,  900]: loss: 0.097, acc: 97.10 %\n",
      "[2/10]: Accuracy on test set: 97.9 % \n",
      "[3,  300]: loss: 0.090, acc: 97.22 %\n",
      "[3,  600]: loss: 0.078, acc: 97.67 %\n",
      "[3,  900]: loss: 0.077, acc: 97.72 %\n",
      "[3/10]: Accuracy on test set: 98.0 % \n",
      "[4,  300]: loss: 0.068, acc: 97.80 %\n",
      "[4,  600]: loss: 0.074, acc: 97.73 %\n",
      "[4,  900]: loss: 0.065, acc: 98.02 %\n",
      "[4/10]: Accuracy on test set: 98.2 % \n",
      "[5,  300]: loss: 0.065, acc: 98.05 %\n",
      "[5,  600]: loss: 0.062, acc: 98.09 %\n",
      "[5,  900]: loss: 0.056, acc: 98.31 %\n",
      "[5/10]: Accuracy on test set: 98.4 % \n",
      "[6,  300]: loss: 0.048, acc: 98.53 %\n",
      "[6,  600]: loss: 0.061, acc: 98.10 %\n",
      "[6,  900]: loss: 0.054, acc: 98.21 %\n",
      "[6/10]: Accuracy on test set: 98.5 % \n",
      "[7,  300]: loss: 0.047, acc: 98.54 %\n",
      "[7,  600]: loss: 0.054, acc: 98.38 %\n",
      "[7,  900]: loss: 0.050, acc: 98.44 %\n",
      "[7/10]: Accuracy on test set: 98.6 % \n",
      "[8,  300]: loss: 0.045, acc: 98.66 %\n",
      "[8,  600]: loss: 0.047, acc: 98.54 %\n",
      "[8,  900]: loss: 0.046, acc: 98.54 %\n",
      "[8/10]: Accuracy on test set: 98.8 % \n",
      "[9,  300]: loss: 0.043, acc: 98.64 %\n",
      "[9,  600]: loss: 0.045, acc: 98.66 %\n",
      "[9,  900]: loss: 0.040, acc: 98.80 %\n",
      "[9/10]: Accuracy on test set: 98.7 % \n",
      "[10,  300]: loss: 0.038, acc: 98.78 %\n",
      "[10,  600]: loss: 0.045, acc: 98.62 %\n",
      "[10,  900]: loss: 0.036, acc: 98.82 %\n",
      "[10/10]: Accuracy on test set: 98.8 % \n"
     ]
    },
    {
     "data": {
      "image/png": "[encoded data removed]",
      "text/plain": [
       "<Figure size 640x480 with 1 Axes>"
      ]
     },
     "metadata": {},
     "output_type": "display_data"
    }
   ],
   "source": [
    "if __name__ == '__main__':\n",
    "    acc_list_test=[]\n",
    "    for epoch in range(EPOCH):\n",
    "        train(epoch)\n",
    "        acc_test = test()\n",
    "        acc_list_test.append(acc_test)\n",
    "\n",
    "plt.plot(acc_list_test)\n",
    "plt.xlabel('Epoch')\n",
    "plt.ylabel('Accuracy On TestSet')\n",
    "plt.show()"
   ]
  }
 ],
 "metadata": {
  "kernelspec": {
   "display_name": "pytorch",
   "language": "python",
   "name": "python3"
  },
  "language_info": {
   "codemirror_mode": {
    "name": "ipython",
    "version": 3
   },
   "file_extension": ".py",
   "mimetype": "text/x-python",
   "name": "python",
   "nbconvert_exporter": "python",
   "pygments_lexer": "ipython3",
   "version": "3.11.5"
  }
 },
 "nbformat": 4,
 "nbformat_minor": 2
}
