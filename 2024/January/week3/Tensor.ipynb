{
 "cells": [
  {
   "cell_type": "markdown",
   "metadata": {},
   "source": [
    "# pytorch初步学习\n",
    "基于[pytorch的官方文档](https://pytorch-cn.readthedocs.io/zh/latest/)"
   ]
  },
  {
   "cell_type": "code",
   "execution_count": 10,
   "metadata": {},
   "outputs": [],
   "source": [
    "import torch\n",
    "import numpy as np"
   ]
  },
  {
   "cell_type": "markdown",
   "metadata": {},
   "source": [
    "## 一：张量（Tensor）\n",
    "    Tensor是torch的基础数据结构"
   ]
  },
  {
   "cell_type": "markdown",
   "metadata": {},
   "source": [
    "#### 1.1 Tensor的创建"
   ]
  },
  {
   "cell_type": "code",
   "execution_count": 19,
   "metadata": {},
   "outputs": [
    {
     "name": "stdout",
     "output_type": "stream",
     "text": [
      "tensor([[1, 2],\n",
      "        [3, 4]])\n",
      "<class 'torch.Tensor'>\n",
      "torch.Size([2, 2])\n"
     ]
    }
   ],
   "source": [
    "#Tensor可以由数据直接赋值\n",
    "data=[[1,2],[3,4]]\n",
    "x=torch.tensor(data)\n",
    "print(x)\n",
    "print(type(x))\n",
    "print(x.shape)"
   ]
  },
  {
   "cell_type": "code",
   "execution_count": 14,
   "metadata": {},
   "outputs": [
    {
     "name": "stdout",
     "output_type": "stream",
     "text": [
      "[[1 2]\n",
      " [3 4]]\n"
     ]
    }
   ],
   "source": [
    "#Tensor可以用np.array转化得到\n",
    "np_arr=np.array(data)\n",
    "print(np_arr)\n",
    "x=torch.from_numpy(np_arr)"
   ]
  },
  {
   "cell_type": "code",
   "execution_count": 18,
   "metadata": {},
   "outputs": [
    {
     "name": "stdout",
     "output_type": "stream",
     "text": [
      "tensor([[0.8629, 0.5663, 0.3713],\n",
      "        [0.7071, 0.3847, 0.2497]])\n",
      "tensor([[1., 1., 1.],\n",
      "        [1., 1., 1.]])\n",
      "tensor([[0., 0., 0.],\n",
      "        [0., 0., 0.]])\n"
     ]
    }
   ],
   "source": [
    "#随机或全1，全0\n",
    "shape=(2,3,)\n",
    "rand_tensor=torch.rand(shape)\n",
    "ones_tensor=torch.ones(shape)\n",
    "zeros_tensor=torch.zeros(shape)\n",
    "print(rand_tensor)\n",
    "print(ones_tensor)\n",
    "print(zeros_tensor)"
   ]
  },
  {
   "cell_type": "markdown",
   "metadata": {},
   "source": [
    "#### 1.2 Tensor的运算"
   ]
  },
  {
   "cell_type": "code",
   "execution_count": 46,
   "metadata": {},
   "outputs": [
    {
     "name": "stdout",
     "output_type": "stream",
     "text": [
      "x=tensor([[-1.7579, -0.4969, -0.0050],\n",
      "        [-1.2971,  0.3436,  2.0473]])\n",
      "1:tensor([[-1.7579, -0.4969, -0.0050],\n",
      "        [-1.2971,  0.3436,  2.0473],\n",
      "        [-1.7579, -0.4969, -0.0050],\n",
      "        [-1.2971,  0.3436,  2.0473],\n",
      "        [-1.7579, -0.4969, -0.0050],\n",
      "        [-1.2971,  0.3436,  2.0473]])\n",
      "2:tensor([[-1.7579, -0.4969, -0.0050, -1.7579, -0.4969, -0.0050, -1.7579, -0.4969,\n",
      "         -0.0050],\n",
      "        [-1.2971,  0.3436,  2.0473, -1.2971,  0.3436,  2.0473, -1.2971,  0.3436,\n",
      "          2.0473]])\n"
     ]
    }
   ],
   "source": [
    "#torch.cat可以用于多个tensor的连接\n",
    "x=torch.randn(2,3)\n",
    "print(f\"x={x}\")\n",
    "x1=torch.cat((x,x,x),0)\n",
    "x2=torch.cat((x,x,x),1)\n",
    "print(f\"1:{x1}\")\n",
    "print(f\"2:{x2}\")\n"
   ]
  },
  {
   "cell_type": "code",
   "execution_count": 49,
   "metadata": {},
   "outputs": [
    {
     "name": "stdout",
     "output_type": "stream",
     "text": [
      "tensor([[ 0.3373, -0.2817],\n",
      "        [-1.2712,  0.8891]])\n"
     ]
    },
    {
     "data": {
      "text/plain": [
       "tensor([[ 0.3373,  0.3373],\n",
       "        [ 0.8891, -1.2712]])"
      ]
     },
     "execution_count": 49,
     "metadata": {},
     "output_type": "execute_result"
    }
   ],
   "source": [
    "#torch.chunk用于将tensor分块\n",
    "#torch.gather用于聚合张量的index(奇怪的操作，不知道哪里用得上)\n",
    "x=torch.randn(2,2)\n",
    "print(x)\n",
    "torch.gather(x,1,torch.LongTensor([[0,0],[1,0]]))\n",
    "#torch.index_select用于沿轴切片并组合\n",
    "#torch.masked_select用于加mask\n",
    "#类似的函数过多，之后遇到再研究"
   ]
  }
 ],
 "metadata": {
  "kernelspec": {
   "display_name": "pytorch",
   "language": "python",
   "name": "python3"
  },
  "language_info": {
   "codemirror_mode": {
    "name": "ipython",
    "version": 3
   },
   "file_extension": ".py",
   "mimetype": "text/x-python",
   "name": "python",
   "nbconvert_exporter": "python",
   "pygments_lexer": "ipython3",
   "version": "3.11.5"
  }
 },
 "nbformat": 4,
 "nbformat_minor": 2
}
